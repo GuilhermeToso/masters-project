{
 "cells": [
  {
   "cell_type": "markdown",
   "metadata": {},
   "source": [
    "# Spambase Dataset Analysis\n",
    "\n",
    "This notebook will analyze and preprocess the spambase dataset. For dataset information go to [UCI repository](https://archive.ics.uci.edu/ml/datasets/spambase). Now, let's import dependencies and the dataset."
   ]
  },
  {
   "cell_type": "code",
   "execution_count": 3,
   "metadata": {},
   "outputs": [],
   "source": [
    "%matplotlib inline\n",
    "\n",
    "import numpy as np\n",
    "import pandas as pd\n",
    "import matplotlib.pyplot as plt\n",
    "import matplotlib.cm as cm\n",
    "import seaborn as sns\n",
    "from sklearn.preprocessing import LabelEncoder, OneHotEncoder"
   ]
  },
  {
   "cell_type": "code",
   "execution_count": 4,
   "metadata": {},
   "outputs": [],
   "source": [
    "spambase = pd.read_csv('spambase.data')"
   ]
  },
  {
   "cell_type": "code",
   "execution_count": 5,
   "metadata": {},
   "outputs": [
    {
     "data": {
      "text/plain": [
       "0         float64\n",
       "0.64      float64\n",
       "0.64.1    float64\n",
       "0.1       float64\n",
       "0.32      float64\n",
       "0.2       float64\n",
       "0.3       float64\n",
       "0.4       float64\n",
       "0.5       float64\n",
       "0.6       float64\n",
       "0.7       float64\n",
       "0.64.2    float64\n",
       "0.8       float64\n",
       "0.9       float64\n",
       "0.10      float64\n",
       "0.32.1    float64\n",
       "0.11      float64\n",
       "1.29      float64\n",
       "1.93      float64\n",
       "0.12      float64\n",
       "0.96      float64\n",
       "0.13      float64\n",
       "0.14      float64\n",
       "0.15      float64\n",
       "0.16      float64\n",
       "0.17      float64\n",
       "0.18      float64\n",
       "0.19      float64\n",
       "0.20      float64\n",
       "0.21      float64\n",
       "0.22      float64\n",
       "0.23      float64\n",
       "0.24      float64\n",
       "0.25      float64\n",
       "0.26      float64\n",
       "0.27      float64\n",
       "0.28      float64\n",
       "0.29      float64\n",
       "0.30      float64\n",
       "0.31      float64\n",
       "0.32.2    float64\n",
       "0.33      float64\n",
       "0.34      float64\n",
       "0.35      float64\n",
       "0.36      float64\n",
       "0.37      float64\n",
       "0.38      float64\n",
       "0.39      float64\n",
       "0.40      float64\n",
       "0.41      float64\n",
       "0.42      float64\n",
       "0.778     float64\n",
       "0.43      float64\n",
       "0.44      float64\n",
       "3.756     float64\n",
       "61          int64\n",
       "278         int64\n",
       "1           int64\n",
       "dtype: object"
      ]
     },
     "execution_count": 5,
     "metadata": {},
     "output_type": "execute_result"
    }
   ],
   "source": [
    "spambase.dtypes"
   ]
  },
  {
   "cell_type": "code",
   "execution_count": 6,
   "metadata": {},
   "outputs": [
    {
     "data": {
      "text/plain": [
       "array(['0', '0.64', '0.64.1', '0.1', '0.32', '0.2', '0.3', '0.4', '0.5',\n",
       "       '0.6', '0.7', '0.64.2', '0.8', '0.9', '0.10', '0.32.1', '0.11',\n",
       "       '1.29', '1.93', '0.12', '0.96', '0.13', '0.14', '0.15', '0.16',\n",
       "       '0.17', '0.18', '0.19', '0.20', '0.21', '0.22', '0.23', '0.24',\n",
       "       '0.25', '0.26', '0.27', '0.28', '0.29', '0.30', '0.31', '0.32.2',\n",
       "       '0.33', '0.34', '0.35', '0.36', '0.37', '0.38', '0.39', '0.40',\n",
       "       '0.41', '0.42', '0.778', '0.43', '0.44', '3.756', '61', '278', '1'],\n",
       "      dtype=object)"
      ]
     },
     "execution_count": 6,
     "metadata": {},
     "output_type": "execute_result"
    }
   ],
   "source": [
    "# Get the columns names as array\n",
    "new_header = spambase.columns.values\n",
    "\n",
    "#header = new_header.copy()\n",
    "#header[5]='convenient'\n",
    "# Create the columns\n",
    "cols = ['word_freq_'+str(i) for i in range(48)]\n",
    "cols = cols + ['char_freq_'+str(i) for i in range(6)]\n",
    "cols = cols + ['capital_run_length_average', 'capital_run_length_longest', 'capital_run_length_total', 'target']\n",
    "new_header"
   ]
  },
  {
   "cell_type": "code",
   "execution_count": 7,
   "metadata": {},
   "outputs": [
    {
     "data": {
      "text/html": [
       "<div>\n",
       "<style scoped>\n",
       "    .dataframe tbody tr th:only-of-type {\n",
       "        vertical-align: middle;\n",
       "    }\n",
       "\n",
       "    .dataframe tbody tr th {\n",
       "        vertical-align: top;\n",
       "    }\n",
       "\n",
       "    .dataframe thead th {\n",
       "        text-align: right;\n",
       "    }\n",
       "</style>\n",
       "<table border=\"1\" class=\"dataframe\">\n",
       "  <thead>\n",
       "    <tr style=\"text-align: right;\">\n",
       "      <th></th>\n",
       "      <th>word_freq_0</th>\n",
       "      <th>word_freq_1</th>\n",
       "      <th>word_freq_2</th>\n",
       "      <th>word_freq_3</th>\n",
       "      <th>word_freq_4</th>\n",
       "      <th>word_freq_5</th>\n",
       "      <th>word_freq_6</th>\n",
       "      <th>word_freq_7</th>\n",
       "      <th>word_freq_8</th>\n",
       "      <th>word_freq_9</th>\n",
       "      <th>...</th>\n",
       "      <th>char_freq_0</th>\n",
       "      <th>char_freq_1</th>\n",
       "      <th>char_freq_2</th>\n",
       "      <th>char_freq_3</th>\n",
       "      <th>char_freq_4</th>\n",
       "      <th>char_freq_5</th>\n",
       "      <th>capital_run_length_average</th>\n",
       "      <th>capital_run_length_longest</th>\n",
       "      <th>capital_run_length_total</th>\n",
       "      <th>target</th>\n",
       "    </tr>\n",
       "  </thead>\n",
       "  <tbody>\n",
       "    <tr>\n",
       "      <th>0</th>\n",
       "      <td>0.0</td>\n",
       "      <td>0.64</td>\n",
       "      <td>0.64</td>\n",
       "      <td>0.1</td>\n",
       "      <td>0.32</td>\n",
       "      <td>0.2</td>\n",
       "      <td>0.3</td>\n",
       "      <td>0.4</td>\n",
       "      <td>0.5</td>\n",
       "      <td>0.6</td>\n",
       "      <td>...</td>\n",
       "      <td>0.4</td>\n",
       "      <td>0.41</td>\n",
       "      <td>0.42</td>\n",
       "      <td>0.778</td>\n",
       "      <td>0.43</td>\n",
       "      <td>0.44</td>\n",
       "      <td>3</td>\n",
       "      <td>61</td>\n",
       "      <td>278</td>\n",
       "      <td>1</td>\n",
       "    </tr>\n",
       "  </tbody>\n",
       "</table>\n",
       "<p>1 rows × 58 columns</p>\n",
       "</div>"
      ],
      "text/plain": [
       "   word_freq_0  word_freq_1  word_freq_2  word_freq_3  word_freq_4  \\\n",
       "0          0.0         0.64         0.64          0.1         0.32   \n",
       "\n",
       "   word_freq_5  word_freq_6  word_freq_7  word_freq_8  word_freq_9  ...  \\\n",
       "0          0.2          0.3          0.4          0.5          0.6  ...   \n",
       "\n",
       "   char_freq_0  char_freq_1  char_freq_2  char_freq_3  char_freq_4  \\\n",
       "0          0.4         0.41         0.42        0.778         0.43   \n",
       "\n",
       "   char_freq_5  capital_run_length_average  capital_run_length_longest  \\\n",
       "0         0.44                           3                          61   \n",
       "\n",
       "   capital_run_length_total  target  \n",
       "0                       278       1  \n",
       "\n",
       "[1 rows x 58 columns]"
      ]
     },
     "execution_count": 7,
     "metadata": {},
     "output_type": "execute_result"
    }
   ],
   "source": [
    "# Create a DataFrame from the hedader\n",
    "sb = pd.DataFrame(new_header[None,:],columns=list(cols))\n",
    "new_header[2] = '0.64'\n",
    "new_header[11] = '0.64'\n",
    "new_header[15] = '0.32'\n",
    "new_header[40] = '0.32'\n",
    "sb.loc[0,cols] = new_header.astype(float)\n",
    "sb = sb.astype(float)\n",
    "#sb['0.64.1'] = '0.64'\n",
    "#sb['0.64.2'] = '0.64'\n",
    "#sb['0.32.1'] = '0.32'\n",
    "#sb['0.32.2'] = '0.32'\n",
    "\n",
    "#sb = sb.astype(float)\n",
    "# Transform the type of classes as integer\n",
    "sb['capital_run_length_average'] = sb['capital_run_length_average'].astype(int)\n",
    "sb['capital_run_length_longest'] = sb['capital_run_length_longest'].astype(int)\n",
    "sb['capital_run_length_total'] = sb['capital_run_length_total'].astype(int)\n",
    "sb['target'] = sb['target'].astype(int)\n",
    "\n",
    "\n",
    "# Append both the dataframes\n",
    "sb\n"
   ]
  },
  {
   "cell_type": "code",
   "execution_count": 9,
   "metadata": {},
   "outputs": [
    {
     "data": {
      "text/plain": [
       "word_freq_0                   float64\n",
       "word_freq_1                   float64\n",
       "word_freq_2                   float64\n",
       "word_freq_3                   float64\n",
       "word_freq_4                   float64\n",
       "word_freq_5                   float64\n",
       "word_freq_6                   float64\n",
       "word_freq_7                   float64\n",
       "word_freq_8                   float64\n",
       "word_freq_9                   float64\n",
       "word_freq_10                  float64\n",
       "word_freq_11                  float64\n",
       "word_freq_12                  float64\n",
       "word_freq_13                  float64\n",
       "word_freq_14                  float64\n",
       "word_freq_15                  float64\n",
       "word_freq_16                  float64\n",
       "word_freq_17                  float64\n",
       "word_freq_18                  float64\n",
       "word_freq_19                  float64\n",
       "word_freq_20                  float64\n",
       "word_freq_21                  float64\n",
       "word_freq_22                  float64\n",
       "word_freq_23                  float64\n",
       "word_freq_24                  float64\n",
       "word_freq_25                  float64\n",
       "word_freq_26                  float64\n",
       "word_freq_27                  float64\n",
       "word_freq_28                  float64\n",
       "word_freq_29                  float64\n",
       "word_freq_30                  float64\n",
       "word_freq_31                  float64\n",
       "word_freq_32                  float64\n",
       "word_freq_33                  float64\n",
       "word_freq_34                  float64\n",
       "word_freq_35                  float64\n",
       "word_freq_36                  float64\n",
       "word_freq_37                  float64\n",
       "word_freq_38                  float64\n",
       "word_freq_39                  float64\n",
       "word_freq_40                  float64\n",
       "word_freq_41                  float64\n",
       "word_freq_42                  float64\n",
       "word_freq_43                  float64\n",
       "word_freq_44                  float64\n",
       "word_freq_45                  float64\n",
       "word_freq_46                  float64\n",
       "word_freq_47                  float64\n",
       "char_freq_0                   float64\n",
       "char_freq_1                   float64\n",
       "char_freq_2                   float64\n",
       "char_freq_3                   float64\n",
       "char_freq_4                   float64\n",
       "char_freq_5                   float64\n",
       "capital_run_length_average      int32\n",
       "capital_run_length_longest      int32\n",
       "capital_run_length_total        int32\n",
       "target                          int32\n",
       "dtype: object"
      ]
     },
     "execution_count": 9,
     "metadata": {},
     "output_type": "execute_result"
    }
   ],
   "source": [
    "sb.dtypes"
   ]
  },
  {
   "cell_type": "code",
   "execution_count": null,
   "metadata": {},
   "outputs": [],
   "source": [
    "sb.append(spambase)"
   ]
  },
  {
   "cell_type": "code",
   "execution_count": 1,
   "metadata": {},
   "outputs": [
    {
     "ename": "NameError",
     "evalue": "name 'sb' is not defined",
     "output_type": "error",
     "traceback": [
      "\u001b[1;31m---------------------------------------------------------------------------\u001b[0m",
      "\u001b[1;31mNameError\u001b[0m                                 Traceback (most recent call last)",
      "\u001b[1;32m<ipython-input-1-2e29fd6b6233>\u001b[0m in \u001b[0;36m<module>\u001b[1;34m\u001b[0m\n\u001b[1;32m----> 1\u001b[1;33m \u001b[0msb\u001b[0m\u001b[1;33m\u001b[0m\u001b[1;33m\u001b[0m\u001b[0m\n\u001b[0m",
      "\u001b[1;31mNameError\u001b[0m: name 'sb' is not defined"
     ]
    }
   ],
   "source": [
    "sb"
   ]
  },
  {
   "cell_type": "code",
   "execution_count": null,
   "metadata": {},
   "outputs": [],
   "source": []
  }
 ],
 "metadata": {
  "kernelspec": {
   "display_name": "Python [conda env:root] *",
   "language": "python",
   "name": "conda-root-py"
  },
  "language_info": {
   "codemirror_mode": {
    "name": "ipython",
    "version": 3
   },
   "file_extension": ".py",
   "mimetype": "text/x-python",
   "name": "python",
   "nbconvert_exporter": "python",
   "pygments_lexer": "ipython3",
   "version": "3.6.8"
  }
 },
 "nbformat": 4,
 "nbformat_minor": 2
}
