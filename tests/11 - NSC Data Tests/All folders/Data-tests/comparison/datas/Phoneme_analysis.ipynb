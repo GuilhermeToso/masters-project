{
 "cells": [
  {
   "cell_type": "markdown",
   "metadata": {},
   "source": [
    "# Phoneme Data Analysis\n",
    "\n",
    "This notebook will analyze and preprocess the phoneme data. The dataset was used in the European ESPRIT 5516 project (ROARS), in which the objective is to  develove and inmplementing a real time analytical system of speech recognition for the French and Spanish languages.\n",
    "\n",
    "As said by the words of [Phoneme Data Description](https://raw.githubusercontent.com/jbrownlee/Datasets/master/phoneme.names):\n",
    "    \n",
    "    The aim of the present database is to distinguish between nasal and\n",
    "    oral vowels. There are thus two different classes:\n",
    "\n",
    "        Class 0 : Nasals\n",
    "        Class 1 : Orals\n",
    "\n",
    "    This database contains vowels coming from 1809 isolated syllables (for\n",
    "    example: pa, ta, pan,...).  Five different attributes were chosen to\n",
    "    characterize each vowel: they are the amplitudes of the five first\n",
    "    harmonics AHi, normalised by the total energy Ene (integrated on all \n",
    "    the frequencies): AHi/Ene. Each harmonic is signed: positive when it\n",
    "    corresponds to a local maximum of the spectrum and negative otherwise."
   ]
  },
  {
   "cell_type": "markdown",
   "metadata": {},
   "source": [
    "## Dependencies"
   ]
  },
  {
   "cell_type": "code",
   "execution_count": 1,
   "metadata": {},
   "outputs": [],
   "source": [
    "%matplotlib inline\n",
    "\n",
    "import numpy as np\n",
    "import pandas as pd\n",
    "import matplotlib.pyplot as plt\n",
    "import matplotlib.cm as cm\n",
    "import seaborn as sns"
   ]
  },
  {
   "cell_type": "code",
   "execution_count": 3,
   "metadata": {},
   "outputs": [
    {
     "data": {
      "text/html": [
       "<div>\n",
       "<style scoped>\n",
       "    .dataframe tbody tr th:only-of-type {\n",
       "        vertical-align: middle;\n",
       "    }\n",
       "\n",
       "    .dataframe tbody tr th {\n",
       "        vertical-align: top;\n",
       "    }\n",
       "\n",
       "    .dataframe thead th {\n",
       "        text-align: right;\n",
       "    }\n",
       "</style>\n",
       "<table border=\"1\" class=\"dataframe\">\n",
       "  <thead>\n",
       "    <tr style=\"text-align: right;\">\n",
       "      <th></th>\n",
       "      <th>1.24</th>\n",
       "      <th>0.875</th>\n",
       "      <th>-0.205</th>\n",
       "      <th>-0.078</th>\n",
       "      <th>0.067</th>\n",
       "      <th>0</th>\n",
       "    </tr>\n",
       "  </thead>\n",
       "  <tbody>\n",
       "    <tr>\n",
       "      <th>0</th>\n",
       "      <td>0.268</td>\n",
       "      <td>1.352</td>\n",
       "      <td>1.035</td>\n",
       "      <td>-0.332</td>\n",
       "      <td>0.217</td>\n",
       "      <td>0</td>\n",
       "    </tr>\n",
       "    <tr>\n",
       "      <th>1</th>\n",
       "      <td>1.567</td>\n",
       "      <td>0.867</td>\n",
       "      <td>1.300</td>\n",
       "      <td>1.041</td>\n",
       "      <td>0.559</td>\n",
       "      <td>0</td>\n",
       "    </tr>\n",
       "    <tr>\n",
       "      <th>2</th>\n",
       "      <td>0.279</td>\n",
       "      <td>0.990</td>\n",
       "      <td>2.555</td>\n",
       "      <td>-0.738</td>\n",
       "      <td>0.000</td>\n",
       "      <td>0</td>\n",
       "    </tr>\n",
       "    <tr>\n",
       "      <th>3</th>\n",
       "      <td>0.307</td>\n",
       "      <td>1.272</td>\n",
       "      <td>2.656</td>\n",
       "      <td>-0.946</td>\n",
       "      <td>-0.467</td>\n",
       "      <td>0</td>\n",
       "    </tr>\n",
       "    <tr>\n",
       "      <th>4</th>\n",
       "      <td>0.960</td>\n",
       "      <td>0.712</td>\n",
       "      <td>-0.143</td>\n",
       "      <td>0.091</td>\n",
       "      <td>-0.061</td>\n",
       "      <td>0</td>\n",
       "    </tr>\n",
       "    <tr>\n",
       "      <th>5</th>\n",
       "      <td>2.941</td>\n",
       "      <td>0.657</td>\n",
       "      <td>1.493</td>\n",
       "      <td>-0.331</td>\n",
       "      <td>-0.123</td>\n",
       "      <td>0</td>\n",
       "    </tr>\n",
       "    <tr>\n",
       "      <th>6</th>\n",
       "      <td>0.401</td>\n",
       "      <td>1.159</td>\n",
       "      <td>2.064</td>\n",
       "      <td>-0.690</td>\n",
       "      <td>-0.308</td>\n",
       "      <td>0</td>\n",
       "    </tr>\n",
       "    <tr>\n",
       "      <th>7</th>\n",
       "      <td>0.229</td>\n",
       "      <td>1.748</td>\n",
       "      <td>0.634</td>\n",
       "      <td>0.259</td>\n",
       "      <td>0.000</td>\n",
       "      <td>0</td>\n",
       "    </tr>\n",
       "    <tr>\n",
       "      <th>8</th>\n",
       "      <td>0.303</td>\n",
       "      <td>0.609</td>\n",
       "      <td>0.474</td>\n",
       "      <td>1.427</td>\n",
       "      <td>-0.811</td>\n",
       "      <td>1</td>\n",
       "    </tr>\n",
       "    <tr>\n",
       "      <th>9</th>\n",
       "      <td>0.318</td>\n",
       "      <td>0.811</td>\n",
       "      <td>0.818</td>\n",
       "      <td>0.821</td>\n",
       "      <td>0.860</td>\n",
       "      <td>1</td>\n",
       "    </tr>\n",
       "  </tbody>\n",
       "</table>\n",
       "</div>"
      ],
      "text/plain": [
       "    1.24  0.875  -0.205  -0.078  0.067  0\n",
       "0  0.268  1.352   1.035  -0.332  0.217  0\n",
       "1  1.567  0.867   1.300   1.041  0.559  0\n",
       "2  0.279  0.990   2.555  -0.738  0.000  0\n",
       "3  0.307  1.272   2.656  -0.946 -0.467  0\n",
       "4  0.960  0.712  -0.143   0.091 -0.061  0\n",
       "5  2.941  0.657   1.493  -0.331 -0.123  0\n",
       "6  0.401  1.159   2.064  -0.690 -0.308  0\n",
       "7  0.229  1.748   0.634   0.259  0.000  0\n",
       "8  0.303  0.609   0.474   1.427 -0.811  1\n",
       "9  0.318  0.811   0.818   0.821  0.860  1"
      ]
     },
     "execution_count": 3,
     "metadata": {},
     "output_type": "execute_result"
    }
   ],
   "source": [
    "phoneme = pd.read_csv(\"phoneme.csv\")\n",
    "phoneme.head(10)"
   ]
  },
  {
   "cell_type": "markdown",
   "metadata": {},
   "source": [
    "The dataset has no feature names, neither the class column, so we will give their names based upon the [Phoneme Data Description](https://raw.githubusercontent.com/jbrownlee/Datasets/master/phoneme.names)"
   ]
  },
  {
   "cell_type": "code",
   "execution_count": 52,
   "metadata": {},
   "outputs": [
    {
     "data": {
      "text/plain": [
       "array(['1.24', '0.875', '-0.205', '-0.078', '0.067', '0'], dtype=object)"
      ]
     },
     "execution_count": 52,
     "metadata": {},
     "output_type": "execute_result"
    }
   ],
   "source": [
    "# Get the columns names as array\n",
    "new_header = phoneme.columns.values\n",
    "new_header"
   ]
  },
  {
   "cell_type": "code",
   "execution_count": 54,
   "metadata": {},
   "outputs": [
    {
     "data": {
      "text/html": [
       "<div>\n",
       "<style scoped>\n",
       "    .dataframe tbody tr th:only-of-type {\n",
       "        vertical-align: middle;\n",
       "    }\n",
       "\n",
       "    .dataframe tbody tr th {\n",
       "        vertical-align: top;\n",
       "    }\n",
       "\n",
       "    .dataframe thead th {\n",
       "        text-align: right;\n",
       "    }\n",
       "</style>\n",
       "<table border=\"1\" class=\"dataframe\">\n",
       "  <thead>\n",
       "    <tr style=\"text-align: right;\">\n",
       "      <th></th>\n",
       "      <th>H1</th>\n",
       "      <th>H2</th>\n",
       "      <th>H3</th>\n",
       "      <th>H4</th>\n",
       "      <th>H5</th>\n",
       "      <th>target</th>\n",
       "    </tr>\n",
       "  </thead>\n",
       "  <tbody>\n",
       "    <tr>\n",
       "      <th>0</th>\n",
       "      <td>1.240</td>\n",
       "      <td>0.875</td>\n",
       "      <td>-0.205</td>\n",
       "      <td>-0.078</td>\n",
       "      <td>0.067</td>\n",
       "      <td>0</td>\n",
       "    </tr>\n",
       "    <tr>\n",
       "      <th>0</th>\n",
       "      <td>0.268</td>\n",
       "      <td>1.352</td>\n",
       "      <td>1.035</td>\n",
       "      <td>-0.332</td>\n",
       "      <td>0.217</td>\n",
       "      <td>0</td>\n",
       "    </tr>\n",
       "    <tr>\n",
       "      <th>1</th>\n",
       "      <td>1.567</td>\n",
       "      <td>0.867</td>\n",
       "      <td>1.300</td>\n",
       "      <td>1.041</td>\n",
       "      <td>0.559</td>\n",
       "      <td>0</td>\n",
       "    </tr>\n",
       "    <tr>\n",
       "      <th>2</th>\n",
       "      <td>0.279</td>\n",
       "      <td>0.990</td>\n",
       "      <td>2.555</td>\n",
       "      <td>-0.738</td>\n",
       "      <td>0.000</td>\n",
       "      <td>0</td>\n",
       "    </tr>\n",
       "    <tr>\n",
       "      <th>3</th>\n",
       "      <td>0.307</td>\n",
       "      <td>1.272</td>\n",
       "      <td>2.656</td>\n",
       "      <td>-0.946</td>\n",
       "      <td>-0.467</td>\n",
       "      <td>0</td>\n",
       "    </tr>\n",
       "    <tr>\n",
       "      <th>4</th>\n",
       "      <td>0.960</td>\n",
       "      <td>0.712</td>\n",
       "      <td>-0.143</td>\n",
       "      <td>0.091</td>\n",
       "      <td>-0.061</td>\n",
       "      <td>0</td>\n",
       "    </tr>\n",
       "    <tr>\n",
       "      <th>5</th>\n",
       "      <td>2.941</td>\n",
       "      <td>0.657</td>\n",
       "      <td>1.493</td>\n",
       "      <td>-0.331</td>\n",
       "      <td>-0.123</td>\n",
       "      <td>0</td>\n",
       "    </tr>\n",
       "    <tr>\n",
       "      <th>6</th>\n",
       "      <td>0.401</td>\n",
       "      <td>1.159</td>\n",
       "      <td>2.064</td>\n",
       "      <td>-0.690</td>\n",
       "      <td>-0.308</td>\n",
       "      <td>0</td>\n",
       "    </tr>\n",
       "    <tr>\n",
       "      <th>7</th>\n",
       "      <td>0.229</td>\n",
       "      <td>1.748</td>\n",
       "      <td>0.634</td>\n",
       "      <td>0.259</td>\n",
       "      <td>0.000</td>\n",
       "      <td>0</td>\n",
       "    </tr>\n",
       "    <tr>\n",
       "      <th>8</th>\n",
       "      <td>0.303</td>\n",
       "      <td>0.609</td>\n",
       "      <td>0.474</td>\n",
       "      <td>1.427</td>\n",
       "      <td>-0.811</td>\n",
       "      <td>1</td>\n",
       "    </tr>\n",
       "  </tbody>\n",
       "</table>\n",
       "</div>"
      ],
      "text/plain": [
       "      H1     H2     H3     H4     H5  target\n",
       "0  1.240  0.875 -0.205 -0.078  0.067       0\n",
       "0  0.268  1.352  1.035 -0.332  0.217       0\n",
       "1  1.567  0.867  1.300  1.041  0.559       0\n",
       "2  0.279  0.990  2.555 -0.738  0.000       0\n",
       "3  0.307  1.272  2.656 -0.946 -0.467       0\n",
       "4  0.960  0.712 -0.143  0.091 -0.061       0\n",
       "5  2.941  0.657  1.493 -0.331 -0.123       0\n",
       "6  0.401  1.159  2.064 -0.690 -0.308       0\n",
       "7  0.229  1.748  0.634  0.259  0.000       0\n",
       "8  0.303  0.609  0.474  1.427 -0.811       1"
      ]
     },
     "execution_count": 54,
     "metadata": {},
     "output_type": "execute_result"
    }
   ],
   "source": [
    "# Create a DataFrame from the hedader\n",
    "ph = pd.DataFrame(new_header.astype(float)[None,:],columns=list(new_header))\n",
    "# Transform the type of classes as integer\n",
    "ph['0'] = ph['0'].astype('int64')\n",
    "# Append both the dataframes\n",
    "ph = ph.append(phoneme)\n",
    "# Rename the columns\n",
    "cols = {new_header[i]:'H{}'.format(i+1) for i in range(new_header.size-1)}\n",
    "cols['0']='target'\n",
    "ph=ph.rename(columns=cols)\n",
    "\n",
    "\n",
    "ph.head(10)"
   ]
  },
  {
   "cell_type": "markdown",
   "metadata": {},
   "source": [
    "## Dataset Information and Description\n",
    "\n",
    "Let's analyze the information and the data description."
   ]
  },
  {
   "cell_type": "code",
   "execution_count": 55,
   "metadata": {},
   "outputs": [
    {
     "name": "stdout",
     "output_type": "stream",
     "text": [
      "<class 'pandas.core.frame.DataFrame'>\n",
      "Int64Index: 5404 entries, 0 to 5402\n",
      "Data columns (total 6 columns):\n",
      "H1        5404 non-null float64\n",
      "H2        5404 non-null float64\n",
      "H3        5404 non-null float64\n",
      "H4        5404 non-null float64\n",
      "H5        5404 non-null float64\n",
      "target    5404 non-null int64\n",
      "dtypes: float64(5), int64(1)\n",
      "memory usage: 295.5 KB\n"
     ]
    }
   ],
   "source": [
    "ph.info()"
   ]
  },
  {
   "cell_type": "markdown",
   "metadata": {},
   "source": [
    "So we can see that there are no missing data, which is a good thing, and all the features are floats, so for while we do not need to change any data type as much as the **target** feature, which is already of integer type.\n",
    "\n",
    "Now, let's see the description."
   ]
  },
  {
   "cell_type": "code",
   "execution_count": 56,
   "metadata": {},
   "outputs": [
    {
     "data": {
      "text/html": [
       "<div>\n",
       "<style scoped>\n",
       "    .dataframe tbody tr th:only-of-type {\n",
       "        vertical-align: middle;\n",
       "    }\n",
       "\n",
       "    .dataframe tbody tr th {\n",
       "        vertical-align: top;\n",
       "    }\n",
       "\n",
       "    .dataframe thead th {\n",
       "        text-align: right;\n",
       "    }\n",
       "</style>\n",
       "<table border=\"1\" class=\"dataframe\">\n",
       "  <thead>\n",
       "    <tr style=\"text-align: right;\">\n",
       "      <th></th>\n",
       "      <th>H1</th>\n",
       "      <th>H2</th>\n",
       "      <th>H3</th>\n",
       "      <th>H4</th>\n",
       "      <th>H5</th>\n",
       "      <th>target</th>\n",
       "    </tr>\n",
       "  </thead>\n",
       "  <tbody>\n",
       "    <tr>\n",
       "      <th>count</th>\n",
       "      <td>5404.000000</td>\n",
       "      <td>5404.000000</td>\n",
       "      <td>5404.000000</td>\n",
       "      <td>5404.000000</td>\n",
       "      <td>5404.000000</td>\n",
       "      <td>5404.000000</td>\n",
       "    </tr>\n",
       "    <tr>\n",
       "      <th>mean</th>\n",
       "      <td>0.818957</td>\n",
       "      <td>1.258802</td>\n",
       "      <td>0.764732</td>\n",
       "      <td>0.398743</td>\n",
       "      <td>0.078619</td>\n",
       "      <td>0.293486</td>\n",
       "    </tr>\n",
       "    <tr>\n",
       "      <th>std</th>\n",
       "      <td>0.858733</td>\n",
       "      <td>0.851057</td>\n",
       "      <td>0.925436</td>\n",
       "      <td>0.796531</td>\n",
       "      <td>0.575624</td>\n",
       "      <td>0.455401</td>\n",
       "    </tr>\n",
       "    <tr>\n",
       "      <th>min</th>\n",
       "      <td>-1.700000</td>\n",
       "      <td>-1.327000</td>\n",
       "      <td>-1.823000</td>\n",
       "      <td>-1.581000</td>\n",
       "      <td>-1.284000</td>\n",
       "      <td>0.000000</td>\n",
       "    </tr>\n",
       "    <tr>\n",
       "      <th>25%</th>\n",
       "      <td>0.243750</td>\n",
       "      <td>0.596000</td>\n",
       "      <td>-0.115000</td>\n",
       "      <td>-0.205000</td>\n",
       "      <td>-0.232250</td>\n",
       "      <td>0.000000</td>\n",
       "    </tr>\n",
       "    <tr>\n",
       "      <th>50%</th>\n",
       "      <td>0.492500</td>\n",
       "      <td>1.075500</td>\n",
       "      <td>0.729000</td>\n",
       "      <td>0.285500</td>\n",
       "      <td>-0.044000</td>\n",
       "      <td>0.000000</td>\n",
       "    </tr>\n",
       "    <tr>\n",
       "      <th>75%</th>\n",
       "      <td>1.089250</td>\n",
       "      <td>1.866250</td>\n",
       "      <td>1.484000</td>\n",
       "      <td>0.937000</td>\n",
       "      <td>0.196250</td>\n",
       "      <td>1.000000</td>\n",
       "    </tr>\n",
       "    <tr>\n",
       "      <th>max</th>\n",
       "      <td>4.107000</td>\n",
       "      <td>4.378000</td>\n",
       "      <td>3.199000</td>\n",
       "      <td>2.826000</td>\n",
       "      <td>2.719000</td>\n",
       "      <td>1.000000</td>\n",
       "    </tr>\n",
       "  </tbody>\n",
       "</table>\n",
       "</div>"
      ],
      "text/plain": [
       "                H1           H2           H3           H4           H5  \\\n",
       "count  5404.000000  5404.000000  5404.000000  5404.000000  5404.000000   \n",
       "mean      0.818957     1.258802     0.764732     0.398743     0.078619   \n",
       "std       0.858733     0.851057     0.925436     0.796531     0.575624   \n",
       "min      -1.700000    -1.327000    -1.823000    -1.581000    -1.284000   \n",
       "25%       0.243750     0.596000    -0.115000    -0.205000    -0.232250   \n",
       "50%       0.492500     1.075500     0.729000     0.285500    -0.044000   \n",
       "75%       1.089250     1.866250     1.484000     0.937000     0.196250   \n",
       "max       4.107000     4.378000     3.199000     2.826000     2.719000   \n",
       "\n",
       "            target  \n",
       "count  5404.000000  \n",
       "mean      0.293486  \n",
       "std       0.455401  \n",
       "min       0.000000  \n",
       "25%       0.000000  \n",
       "50%       0.000000  \n",
       "75%       1.000000  \n",
       "max       1.000000  "
      ]
     },
     "execution_count": 56,
     "metadata": {},
     "output_type": "execute_result"
    }
   ],
   "source": [
    "ph.describe()"
   ]
  },
  {
   "cell_type": "markdown",
   "metadata": {},
   "source": [
    "The means and the stds shows that the data hasn't so much variation, which is not necessary to standarlize the data. \n",
    "\n",
    "Now I will analyze the counting of labeled data, to see if there is some tendency."
   ]
  },
  {
   "cell_type": "code",
   "execution_count": 66,
   "metadata": {},
   "outputs": [],
   "source": [
    "count = ph['target'].value_counts().rename_axis('Unique').to_frame('Counts')"
   ]
  },
  {
   "cell_type": "code",
   "execution_count": 67,
   "metadata": {},
   "outputs": [
    {
     "data": {
      "text/plain": [
       "Unique\n",
       "0    3818\n",
       "1    1586\n",
       "Name: Counts, dtype: int64"
      ]
     },
     "execution_count": 67,
     "metadata": {},
     "output_type": "execute_result"
    }
   ],
   "source": [
    "count['Counts']"
   ]
  },
  {
   "cell_type": "code",
   "execution_count": 82,
   "metadata": {},
   "outputs": [
    {
     "data": {
      "image/png": "[encoded data removed]",
      "text/plain": [
       "<Figure size 432x288 with 1 Axes>"
      ]
     },
     "metadata": {
      "needs_background": "light"
     },
     "output_type": "display_data"
    },
    {
     "name": "stdout",
     "output_type": "stream",
     "text": [
      "Nasal Vowels: 70.65%\n",
      "Oral Vowels: 29.35%\n",
      "Ratio Nasal/Oral: 240.73%\n"
     ]
    }
   ],
   "source": [
    "plt.bar(np.arange(1),count['Counts'][0],color='b',alpha=0.5, label='Nasal')\n",
    "plt.bar(np.arange(1)+1,count['Counts'][1],color='r',alpha=0.5, label='Oral')\n",
    "plt.xlabel('Classes',fontsize=20, labelpad=30)\n",
    "plt.ylabel('Frequency',fontsize=20, labelpad=30)\n",
    "plt.xticks(np.arange(2),['0','1'],fontsize=20)\n",
    "plt.yticks(fontsize=20)\n",
    "plt.legend()\n",
    "plt.show()\n",
    "print(\"Nasal Vowels: {}%\".format(round(3818*100/count['Counts'].sum(),2)))\n",
    "print(\"Oral Vowels: {}%\".format(round(1586*100/count['Counts'].sum(),2)))\n",
    "print(\"Ratio Nasal/Oral: {}%\".format(round((3818/1586)*100,2)))"
   ]
  },
  {
   "cell_type": "markdown",
   "metadata": {},
   "source": [
    "So we can see that there are 70% of the data labeled as Nasal, and it's 240% higher than the oral vowels. It's clear that the Nasal label is biased."
   ]
  },
  {
   "cell_type": "markdown",
   "metadata": {},
   "source": [
    "Now, let's save our dataset."
   ]
  },
  {
   "cell_type": "code",
   "execution_count": 83,
   "metadata": {},
   "outputs": [],
   "source": [
    "ph.to_csv(\"phoneme.data\")"
   ]
  },
  {
   "cell_type": "code",
   "execution_count": null,
   "metadata": {},
   "outputs": [],
   "source": []
  }
 ],
 "metadata": {
  "kernelspec": {
   "display_name": "Python [conda env:root] *",
   "language": "python",
   "name": "conda-root-py"
  },
  "language_info": {
   "codemirror_mode": {
    "name": "ipython",
    "version": 3
   },
   "file_extension": ".py",
   "mimetype": "text/x-python",
   "name": "python",
   "nbconvert_exporter": "python",
   "pygments_lexer": "ipython3",
   "version": "3.6.8"
  }
 },
 "nbformat": 4,
 "nbformat_minor": 2
}
